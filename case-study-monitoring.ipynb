{
 "cells": [
  {
   "cell_type": "markdown",
   "metadata": {},
   "source": [
    "# CASE STUDY - performance monitoring (solution)\n"
   ]
  },
  {
   "cell_type": "code",
   "execution_count": 11,
   "metadata": {},
   "outputs": [],
   "source": [
    "import os\n",
    "import sys\n",
    "import csv\n",
    "import requests\n",
    "from collections import Counter\n",
    "from datetime import date\n",
    "from ast import literal_eval\n",
    "import numpy as np\n",
    "import pandas as pd\n",
    "import matplotlib.pyplot as plt\n",
    "\n",
    "%matplotlib inline"
   ]
  },
  {
   "cell_type": "markdown",
   "metadata": {},
   "source": [
    "## Getting started\n"
   ]
  },
  {
   "cell_type": "markdown",
   "metadata": {},
   "source": [
    "## TASK 1: Write units test for a logger and a logging API endpoint\n"
   ]
  },
  {
   "cell_type": "code",
   "execution_count": 4,
   "metadata": {},
   "outputs": [
    {
     "name": "stdout",
     "output_type": "stream",
     "text": [
      "Collecting joblib\n",
      "\u001b[?25l  Downloading https://files.pythonhosted.org/packages/fc/c9/f58220ac44a1592f79a343caba12f6837f9e0c04c196176a3d66338e1ea8/joblib-0.17.0-py3-none-any.whl (301kB)\n",
      "\u001b[K     |████████████████████████████████| 307kB 8.2MB/s eta 0:00:01\n",
      "\u001b[?25hInstalling collected packages: joblib\n",
      "Successfully installed joblib-0.17.0\n",
      "Note: you may need to restart the kernel to use updated packages.\n"
     ]
    }
   ],
   "source": [
    "pip install joblib"
   ]
  },
  {
   "cell_type": "code",
   "execution_count": 17,
   "metadata": {},
   "outputs": [
    {
     "name": "stdout",
     "output_type": "stream",
     "text": [
      "....\n",
      "----------------------------------------------------------------------\n",
      "Ran 4 tests in 0.068s\n",
      "\n",
      "OK\n"
     ]
    }
   ],
   "source": [
    "!python ./unittests/LoggerTests.py"
   ]
  },
  {
   "cell_type": "markdown",
   "metadata": {},
   "source": [
    "## TASK 2: Add an API endpoint for logging\n"
   ]
  },
  {
   "cell_type": "code",
   "execution_count": 18,
   "metadata": {},
   "outputs": [
    {
     "name": "stdout",
     "output_type": "stream",
     "text": [
      "ssss\n",
      "----------------------------------------------------------------------\n",
      "Ran 4 tests in 0.000s\n",
      "\n",
      "OK (skipped=4)\n"
     ]
    }
   ],
   "source": [
    "!python ./unittests/ApiTests.py"
   ]
  },
  {
   "cell_type": "code",
   "execution_count": 31,
   "metadata": {},
   "outputs": [],
   "source": [
    "## TASK 3: Make sure all tests pass\n"
   ]
  },
  {
   "cell_type": "code",
   "execution_count": 21,
   "metadata": {},
   "outputs": [
    {
     "name": "stdout",
     "output_type": "stream",
     "text": [
      "ssss....... grid searching\n",
      "... saving test version of model\n",
      "...\n",
      "----------------------------------------------------------------------\n",
      "Ran 11 tests in 37.119s\n",
      "\n",
      "OK (skipped=4)\n"
     ]
    }
   ],
   "source": [
    "!python run-tests.py"
   ]
  },
  {
   "cell_type": "code",
   "execution_count": 32,
   "metadata": {},
   "outputs": [],
   "source": [
    "## TASK 4: Create model performance investigative tooling\n"
   ]
  },
  {
   "cell_type": "code",
   "execution_count": 22,
   "metadata": {},
   "outputs": [],
   "source": [
    "## YOUR CODE HERE\n",
    "\n",
    "from monitoring import get_latest_train_data, get_monitoring_tools\n",
    "\n",
    "## load latest data\n",
    "data = get_latest_train_data()\n",
    "y = data['y']\n",
    "X = data['X']"
   ]
  },
  {
   "cell_type": "code",
   "execution_count": 23,
   "metadata": {},
   "outputs": [
    {
     "name": "stdout",
     "output_type": "stream",
     "text": [
      "(63, 4)\n"
     ]
    }
   ],
   "source": [
    "## generate some data\n",
    "import numpy as np\n",
    "import pandas as pd\n",
    "bs_samples = 60\n",
    "subset_indices = np.random.choice(np.arange(X.shape[0]),\n",
    "                                  bs_samples,replace=True).astype(int)\n",
    "mask = np.in1d(np.arange(X.shape[0]),subset_indices)\n",
    "X_bs=X[mask]\n",
    "X_outliers = X[:5].copy()\n",
    "X_outliers['age'] = [88,90,76,80,68]\n",
    "X_outliers['num_streams'] = [111,100,80,90,150]\n",
    "X_query = pd.concat([X_bs,X_outliers])\n",
    "\n",
    "print(X_query.shape)"
   ]
  },
  {
   "cell_type": "code",
   "execution_count": 24,
   "metadata": {},
   "outputs": [],
   "source": [
    "pm_tools = get_monitoring_tools(X,y)"
   ]
  },
  {
   "cell_type": "code",
   "execution_count": 25,
   "metadata": {},
   "outputs": [
    {
     "data": {
      "text/html": [
       "<div>\n",
       "<style scoped>\n",
       "    .dataframe tbody tr th:only-of-type {\n",
       "        vertical-align: middle;\n",
       "    }\n",
       "\n",
       "    .dataframe tbody tr th {\n",
       "        vertical-align: top;\n",
       "    }\n",
       "\n",
       "    .dataframe thead th {\n",
       "        text-align: right;\n",
       "    }\n",
       "</style>\n",
       "<table border=\"1\" class=\"dataframe\">\n",
       "  <thead>\n",
       "    <tr style=\"text-align: right;\">\n",
       "      <th></th>\n",
       "      <th>timestamp</th>\n",
       "      <th>y_pred</th>\n",
       "      <th>query</th>\n",
       "      <th>model_version</th>\n",
       "      <th>runtime</th>\n",
       "    </tr>\n",
       "  </thead>\n",
       "  <tbody>\n",
       "    <tr>\n",
       "      <th>0</th>\n",
       "      <td>1.602822e+09</td>\n",
       "      <td>0.0</td>\n",
       "      <td>['united_states', 24, 'aavail_basic', 8]</td>\n",
       "      <td>0.1</td>\n",
       "      <td>000:00:00</td>\n",
       "    </tr>\n",
       "    <tr>\n",
       "      <th>1</th>\n",
       "      <td>1.602822e+09</td>\n",
       "      <td>1.0</td>\n",
       "      <td>['singapore', 42, 'aavail_premium', 17]</td>\n",
       "      <td>0.1</td>\n",
       "      <td>000:00:00</td>\n",
       "    </tr>\n",
       "    <tr>\n",
       "      <th>2</th>\n",
       "      <td>1.602822e+09</td>\n",
       "      <td>0.0</td>\n",
       "      <td>['united_states', 20, 'aavail_basic', 14]</td>\n",
       "      <td>0.1</td>\n",
       "      <td>000:00:00</td>\n",
       "    </tr>\n",
       "  </tbody>\n",
       "</table>\n",
       "</div>"
      ],
      "text/plain": [
       "      timestamp  y_pred                                      query  \\\n",
       "0  1.602822e+09     0.0   ['united_states', 24, 'aavail_basic', 8]   \n",
       "1  1.602822e+09     1.0    ['singapore', 42, 'aavail_premium', 17]   \n",
       "2  1.602822e+09     0.0  ['united_states', 20, 'aavail_basic', 14]   \n",
       "\n",
       "   model_version    runtime  \n",
       "0            0.1  000:00:00  \n",
       "1            0.1  000:00:00  \n",
       "2            0.1  000:00:00  "
      ]
     },
     "execution_count": 25,
     "metadata": {},
     "output_type": "execute_result"
    }
   ],
   "source": [
    "## read in the logged data\n",
    "df = pd.read_csv(logfile)\n",
    "df.drop(columns=[\"unique_id\",\"y_proba\"], inplace=True)\n",
    "df.head()"
   ]
  },
  {
   "cell_type": "code",
   "execution_count": 26,
   "metadata": {},
   "outputs": [
    {
     "name": "stdout",
     "output_type": "stream",
     "text": [
      "(3, 4)\n"
     ]
    },
    {
     "data": {
      "text/html": [
       "<div>\n",
       "<style scoped>\n",
       "    .dataframe tbody tr th:only-of-type {\n",
       "        vertical-align: middle;\n",
       "    }\n",
       "\n",
       "    .dataframe tbody tr th {\n",
       "        vertical-align: top;\n",
       "    }\n",
       "\n",
       "    .dataframe thead th {\n",
       "        text-align: right;\n",
       "    }\n",
       "</style>\n",
       "<table border=\"1\" class=\"dataframe\">\n",
       "  <thead>\n",
       "    <tr style=\"text-align: right;\">\n",
       "      <th></th>\n",
       "      <th>country</th>\n",
       "      <th>age</th>\n",
       "      <th>subscriber_type</th>\n",
       "      <th>num_streams</th>\n",
       "    </tr>\n",
       "  </thead>\n",
       "  <tbody>\n",
       "    <tr>\n",
       "      <th>0</th>\n",
       "      <td>united_states</td>\n",
       "      <td>24</td>\n",
       "      <td>aavail_basic</td>\n",
       "      <td>8</td>\n",
       "    </tr>\n",
       "    <tr>\n",
       "      <th>1</th>\n",
       "      <td>singapore</td>\n",
       "      <td>42</td>\n",
       "      <td>aavail_premium</td>\n",
       "      <td>17</td>\n",
       "    </tr>\n",
       "    <tr>\n",
       "      <th>2</th>\n",
       "      <td>united_states</td>\n",
       "      <td>20</td>\n",
       "      <td>aavail_basic</td>\n",
       "      <td>14</td>\n",
       "    </tr>\n",
       "  </tbody>\n",
       "</table>\n",
       "</div>"
      ],
      "text/plain": [
       "         country  age subscriber_type  num_streams\n",
       "0  united_states   24    aavail_basic            8\n",
       "1      singapore   42  aavail_premium           17\n",
       "2  united_states   20    aavail_basic           14"
      ]
     },
     "execution_count": 26,
     "metadata": {},
     "output_type": "execute_result"
    }
   ],
   "source": [
    "## reconstruct a data frame from the logged queries\n",
    "queries = [literal_eval(q) for q in df['query'].values]\n",
    "queries = pd.DataFrame(queries)\n",
    "queries.columns = ['country', 'age', 'subscriber_type', 'num_streams']\n",
    "print(queries.shape)\n",
    "queries.head()"
   ]
  },
  {
   "cell_type": "code",
   "execution_count": 33,
   "metadata": {},
   "outputs": [
    {
     "name": "stdout",
     "output_type": "stream",
     "text": [
      "OUTLIER TEST PASSED: 0.0 < 2.1\n",
      "DISTRIBUTION X TEST FAILED: 0.14 >= 0.02\n",
      "DISTRIBUTION y TEST FAILED: 0.04 >= 0.04\n"
     ]
    }
   ],
   "source": [
    "from scipy.stats import wasserstein_distance\n",
    "X_target = pm_tools['preprocessor'].transform(queries)\n",
    "\n",
    "outlier_test = pm_tools['clf_X'].predict(X_target)\n",
    "outliers_X = 100 * (1.0 - (outlier_test[outlier_test==1].size / outlier_test.size))\n",
    "wasserstein_X = wasserstein_distance(pm_tools['X_source'].flatten(),X_target.flatten()) \n",
    "wasserstein_y = wasserstein_distance(pm_tools['y_source'],df['y_pred'].values)\n",
    "\n",
    "if outliers_X >= pm_tools['outlier_X']:\n",
    "    print(\"OUTLIER TEST FAILED: {} >= {}\".format(round(outliers_X,2),\n",
    "                                                 pm_tools['outlier_X']))\n",
    "else:\n",
    "    print(\"OUTLIER TEST PASSED: {} < {}\".format(round(outliers_X,2),\n",
    "                                                pm_tools['outlier_X']))\n",
    "    \n",
    "if wasserstein_X >= pm_tools['wasserstein_X']:\n",
    "    print(\"DISTRIBUTION X TEST FAILED: {} >= {}\".format(round(wasserstein_X,2),\n",
    "                                                        pm_tools['wasserstein_X']))\n",
    "else:\n",
    "    print(\"DISTRIBUTION X TEST PASSED: {} < {}\".format(round(wasserstein_X),\n",
    "                                                       pm_tools['wasserstein_X']))\n",
    "    \n",
    "if wasserstein_y >= pm_tools['wasserstein_y']:\n",
    "    print(\"DISTRIBUTION y TEST FAILED: {} >= {}\".format(round(wasserstein_y,2),\n",
    "                                                        pm_tools['wasserstein_y']))\n",
    "else:\n",
    "    print(\"DISTRIBUTION y TEST PASSED: {} < {}\".format(round(wasserstein_y),\n",
    "                                                       pm_tools['wasserstein_y']))\n"
   ]
  }
 ],
 "metadata": {
  "kernelspec": {
   "display_name": "Python",
   "language": "python",
   "name": "conda-env-python-py"
  },
  "language_info": {
   "codemirror_mode": {
    "name": "ipython",
    "version": 3
   },
   "file_extension": ".py",
   "mimetype": "text/x-python",
   "name": "python",
   "nbconvert_exporter": "python",
   "pygments_lexer": "ipython3",
   "version": "3.6.11"
  }
 },
 "nbformat": 4,
 "nbformat_minor": 4
}
